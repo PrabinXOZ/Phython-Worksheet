{
  "nbformat": 4,
  "nbformat_minor": 0,
  "metadata": {
    "colab": {
      "provenance": []
    },
    "kernelspec": {
      "name": "python3",
      "display_name": "Python 3"
    },
    "language_info": {
      "name": "python"
    }
  },
  "cells": [
    {
      "cell_type": "markdown",
      "source": [
        "**Problem - 1: Array Creation:**"
      ],
      "metadata": {
        "id": "Dvuc7PBOmA0g"
      }
    },
    {
      "cell_type": "markdown",
      "source": [
        "1. Initialize an empty array with size 2X2.\n"
      ],
      "metadata": {
        "id": "gW2cwLe1q3cr"
      }
    },
    {
      "cell_type": "code",
      "execution_count": null,
      "metadata": {
        "colab": {
          "base_uri": "https://localhost:8080/"
        },
        "id": "4ZARcXo4qp_e",
        "outputId": "14b5742f-2304-45a7-ea02-431b5fcf72c6"
      },
      "outputs": [
        {
          "output_type": "stream",
          "name": "stdout",
          "text": [
            "[[4.72756005e-310 0.00000000e+000]\n",
            " [1.57068496e+246 6.75925326e-310]]\n"
          ]
        }
      ],
      "source": [
        "import numpy as np\n",
        "\n",
        "empty_array = np.empty((2, 2))\n",
        "print(empty_array)"
      ]
    },
    {
      "cell_type": "markdown",
      "source": [
        "2. Initialize an all one array with size 4X2."
      ],
      "metadata": {
        "id": "EOt888rusfro"
      }
    },
    {
      "cell_type": "code",
      "source": [
        "one_array = np.ones((4, 2))\n",
        "print(one_array)"
      ],
      "metadata": {
        "colab": {
          "base_uri": "https://localhost:8080/"
        },
        "id": "mwBGC3aFq_o_",
        "outputId": "afaeb1fa-24bd-4539-e62b-cc93834c436b"
      },
      "execution_count": null,
      "outputs": [
        {
          "output_type": "stream",
          "name": "stdout",
          "text": [
            "[[1. 1.]\n",
            " [1. 1.]\n",
            " [1. 1.]\n",
            " [1. 1.]]\n"
          ]
        }
      ]
    },
    {
      "cell_type": "markdown",
      "source": [
        "3. Return a new array of given shape and type, filled with fill value.\n"
      ],
      "metadata": {
        "id": "poUCtm_ts7Ih"
      }
    },
    {
      "cell_type": "code",
      "source": [
        "filled_array = np.full((3, 3),4)\n",
        "filled_array"
      ],
      "metadata": {
        "colab": {
          "base_uri": "https://localhost:8080/"
        },
        "id": "K6JGvv-Isj4Y",
        "outputId": "b7b591a0-e97d-439f-e416-d25bfb848bd0"
      },
      "execution_count": null,
      "outputs": [
        {
          "output_type": "execute_result",
          "data": {
            "text/plain": [
              "array([[4, 4, 4],\n",
              "       [4, 4, 4],\n",
              "       [4, 4, 4]])"
            ]
          },
          "metadata": {},
          "execution_count": 4
        }
      ]
    },
    {
      "cell_type": "markdown",
      "source": [
        "4. Return a new array of zeros with same shape and type as a given array."
      ],
      "metadata": {
        "id": "BnkFebCHk9HU"
      }
    },
    {
      "cell_type": "code",
      "source": [
        "given_array = np.array([[1, 2], [3, 4]])\n",
        "zeros_array = np.zeros_like(given_array)\n",
        "print(zeros_array)"
      ],
      "metadata": {
        "colab": {
          "base_uri": "https://localhost:8080/"
        },
        "id": "LodQzAA1tYNf",
        "outputId": "e67dacfb-5ed6-4bdb-800f-ce69dcf32b62"
      },
      "execution_count": null,
      "outputs": [
        {
          "output_type": "stream",
          "name": "stdout",
          "text": [
            "[[0 0]\n",
            " [0 0]]\n"
          ]
        }
      ]
    },
    {
      "cell_type": "markdown",
      "source": [
        " 5. Return a new array of ones with same shape and type as a given array."
      ],
      "metadata": {
        "id": "gEgDwk7uloxF"
      }
    },
    {
      "cell_type": "code",
      "source": [
        "ones_array = np.ones_like(given_array)\n",
        "print(ones_array)"
      ],
      "metadata": {
        "colab": {
          "base_uri": "https://localhost:8080/"
        },
        "id": "Ya8-itjzlvnU",
        "outputId": "3de4158f-a796-4987-e8b1-f8487531e05b"
      },
      "execution_count": null,
      "outputs": [
        {
          "output_type": "stream",
          "name": "stdout",
          "text": [
            "[[1 1]\n",
            " [1 1]]\n"
          ]
        }
      ]
    },
    {
      "cell_type": "markdown",
      "source": [
        "6. For an existing list new_list = [1,2,3,4] convert to an numpy array."
      ],
      "metadata": {
        "id": "cy1Y_k_GmKha"
      }
    },
    {
      "cell_type": "code",
      "source": [
        "new_list = [1, 2, 3, 4]\n",
        "numpy_array = np.array(new_list)\n",
        "print(numpy_array)"
      ],
      "metadata": {
        "colab": {
          "base_uri": "https://localhost:8080/"
        },
        "id": "1HwtbSwBmQIL",
        "outputId": "6a9e0ae6-ec63-4893-b9b0-dbdd63a064a9"
      },
      "execution_count": null,
      "outputs": [
        {
          "output_type": "stream",
          "name": "stdout",
          "text": [
            "[1 2 3 4]\n"
          ]
        }
      ]
    },
    {
      "cell_type": "markdown",
      "source": [
        "**Problem - 2: Array Manipulation: Numerical Ranges and Array indexing:**"
      ],
      "metadata": {
        "id": "3zVkA-FemcO4"
      }
    },
    {
      "cell_type": "markdown",
      "source": [
        "1. Create an array with values ranging from 10 to 49."
      ],
      "metadata": {
        "id": "7Z0S3YA3mjjn"
      }
    },
    {
      "cell_type": "code",
      "source": [
        "range_array = np.arange(10,49)\n",
        "print(range_array)"
      ],
      "metadata": {
        "colab": {
          "base_uri": "https://localhost:8080/"
        },
        "id": "aw3ss8jZmfto",
        "outputId": "868d93da-d319-4b40-c223-59925a11951a"
      },
      "execution_count": null,
      "outputs": [
        {
          "output_type": "stream",
          "name": "stdout",
          "text": [
            "[10 11 12 13 14 15 16 17 18 19 20 21 22 23 24 25 26 27 28 29 30 31 32 33\n",
            " 34 35 36 37 38 39 40 41 42 43 44 45 46 47 48]\n"
          ]
        }
      ]
    },
    {
      "cell_type": "markdown",
      "source": [
        "2. Create a 3X3 matrix with values ranging from 0 to 8."
      ],
      "metadata": {
        "id": "mWIkBXh-nwiV"
      }
    },
    {
      "cell_type": "code",
      "source": [
        "matrix = np.arange(9).reshape(3,3)\n",
        "print(matrix)"
      ],
      "metadata": {
        "colab": {
          "base_uri": "https://localhost:8080/"
        },
        "id": "cpu2ehZOnyhE",
        "outputId": "27833947-22aa-4fe2-a768-820717dbdf1c"
      },
      "execution_count": null,
      "outputs": [
        {
          "output_type": "stream",
          "name": "stdout",
          "text": [
            "[[0 1 2]\n",
            " [3 4 5]\n",
            " [6 7 8]]\n"
          ]
        }
      ]
    },
    {
      "cell_type": "markdown",
      "source": [
        "3. Create a 3X3 identity matrix."
      ],
      "metadata": {
        "id": "5PsfOSrOoKoY"
      }
    },
    {
      "cell_type": "code",
      "source": [
        "identity_matrix = np.eye(3)\n",
        "print(identity_matrix)"
      ],
      "metadata": {
        "colab": {
          "base_uri": "https://localhost:8080/"
        },
        "id": "NyOaVPJppHH8",
        "outputId": "9a40b26e-9d2a-48cf-cd2a-f4b4bb3fb387"
      },
      "execution_count": null,
      "outputs": [
        {
          "output_type": "stream",
          "name": "stdout",
          "text": [
            "[[1. 0. 0.]\n",
            " [0. 1. 0.]\n",
            " [0. 0. 1.]]\n"
          ]
        }
      ]
    },
    {
      "cell_type": "markdown",
      "source": [
        "4. Create a random array of size 30 and find the mean of the array."
      ],
      "metadata": {
        "id": "ni-0suiup9KJ"
      }
    },
    {
      "cell_type": "code",
      "source": [
        "random_array = np.random.random(30)\n",
        "mean_value = random_array.mean()\n",
        "print(mean_value)"
      ],
      "metadata": {
        "colab": {
          "base_uri": "https://localhost:8080/"
        },
        "id": "UCMTsO3xp_qU",
        "outputId": "fd4e900c-0ff7-4739-f314-c7a695eb3c09"
      },
      "execution_count": null,
      "outputs": [
        {
          "output_type": "stream",
          "name": "stdout",
          "text": [
            "0.44817381378327353\n"
          ]
        }
      ]
    },
    {
      "cell_type": "markdown",
      "source": [
        "5. Create a 10X10 array with random values and find the minimum and maximum values."
      ],
      "metadata": {
        "id": "YqxeUPn4rESe"
      }
    },
    {
      "cell_type": "code",
      "source": [
        "random_array = np.random.randint(0,100,(10, 10))\n",
        "\n",
        "# Find the minimum and maximum values in the array\n",
        "min_value = random_array.min()\n",
        "max_value = random_array.max()\n",
        "\n",
        "print(\"Random Array:\")\n",
        "print(random_array)\n",
        "print(\"\\nMinimum Value:\", min_value)\n",
        "print(\"Maximum Value:\", max_value)"
      ],
      "metadata": {
        "colab": {
          "base_uri": "https://localhost:8080/"
        },
        "id": "FcuBwfIErIrl",
        "outputId": "3578fc9c-d42a-4ad7-ef5c-7bb476dd55dc"
      },
      "execution_count": null,
      "outputs": [
        {
          "output_type": "stream",
          "name": "stdout",
          "text": [
            "Random Array:\n",
            "[[18 93 71 58  8 70 81 54 56 22]\n",
            " [67 28 16 50  5 40 52 89 37 58]\n",
            " [26 38 15 53 61 17 96 45 43 67]\n",
            " [88 88 84 19 37 23 43 53 87 75]\n",
            " [27 34 10 82 35 45 62 81 78  8]\n",
            " [16 42 26 84 68 48  3 50 53 16]\n",
            " [90  0 62 62 60 83 41 96 98 46]\n",
            " [20 40  3 80 37 91 42 39 87 87]\n",
            " [46 55 64  0  4 45 40 39 52 29]\n",
            " [68 16 73 50 62 88 78 78 47 30]]\n",
            "\n",
            "Minimum Value: 0\n",
            "Maximum Value: 98\n"
          ]
        }
      ]
    },
    {
      "cell_type": "markdown",
      "source": [
        "6. Create a zero array of size 10 and replace 5th element with 1."
      ],
      "metadata": {
        "id": "RQv8BVUar86w"
      }
    },
    {
      "cell_type": "code",
      "source": [
        "zero_array = np.zeros(10)\n",
        "\n",
        "# Replace the 5th element (index 4) with 1\n",
        "zero_array[4] = 1\n",
        "\n",
        "print(zero_array)"
      ],
      "metadata": {
        "colab": {
          "base_uri": "https://localhost:8080/"
        },
        "id": "bitMxhkCsBxb",
        "outputId": "e62428b2-add0-4f35-8bca-b14ca88e51ce"
      },
      "execution_count": null,
      "outputs": [
        {
          "output_type": "stream",
          "name": "stdout",
          "text": [
            "[0. 0. 0. 0. 1. 0. 0. 0. 0. 0.]\n"
          ]
        }
      ]
    },
    {
      "cell_type": "markdown",
      "source": [
        "7. Reverse an array arr = [1,2,0,0,4,0]."
      ],
      "metadata": {
        "id": "H5QO9KuMsTss"
      }
    },
    {
      "cell_type": "code",
      "source": [
        "arr = [1,2,0,0,4,0]\n",
        "reverse_array = arr[::-1]\n",
        "print(reverse_array)"
      ],
      "metadata": {
        "colab": {
          "base_uri": "https://localhost:8080/"
        },
        "id": "6TPtHdkQsVcK",
        "outputId": "a60d9c77-b9f4-47b8-bc54-99e35c7039ab"
      },
      "execution_count": null,
      "outputs": [
        {
          "output_type": "stream",
          "name": "stdout",
          "text": [
            "[0, 4, 0, 0, 2, 1]\n"
          ]
        }
      ]
    },
    {
      "cell_type": "markdown",
      "source": [
        "8. Create a 2d array with 1 on border and 0 inside."
      ],
      "metadata": {
        "id": "Lk3E6jE5tBLo"
      }
    },
    {
      "cell_type": "code",
      "source": [
        "array_2d = np.zeros((5, 5))\n",
        "\n",
        "# Set the border elements to 1\n",
        "array_2d[0, :] = 1  # Top row\n",
        "array_2d[-1, :] = 1  # Bottom row\n",
        "array_2d[:, 0] = 1  # Left column\n",
        "array_2d[:, -1] = 1  # Right column\n",
        "\n",
        "print(array_2d)"
      ],
      "metadata": {
        "colab": {
          "base_uri": "https://localhost:8080/"
        },
        "id": "S7A0U_rhtC91",
        "outputId": "80a2bf80-1a97-43f0-dbdb-cfa04d5ea944"
      },
      "execution_count": null,
      "outputs": [
        {
          "output_type": "stream",
          "name": "stdout",
          "text": [
            "[[1. 1. 1. 1. 1.]\n",
            " [1. 0. 0. 0. 1.]\n",
            " [1. 0. 0. 0. 1.]\n",
            " [1. 0. 0. 0. 1.]\n",
            " [1. 1. 1. 1. 1.]]\n"
          ]
        }
      ]
    },
    {
      "cell_type": "markdown",
      "source": [
        "**Problem - 3: Array Operations:**"
      ],
      "metadata": {
        "id": "6EAchMJnt4u6"
      }
    },
    {
      "cell_type": "markdown",
      "source": [
        "For the following arrays:\n",
        "\n",
        "x = np.array([[1,2],[3,5]]) and y = np.array([[5,6],[7,8]]);\n",
        "\n",
        "v = np.array([9,10]) and w = np.array([11,12]);\n",
        "\n",
        "Complete all the task using numpy:"
      ],
      "metadata": {
        "id": "sxEBFX2Gt87w"
      }
    },
    {
      "cell_type": "markdown",
      "source": [
        "1. Add the two array."
      ],
      "metadata": {
        "id": "mBAUn--9uG2a"
      }
    },
    {
      "cell_type": "code",
      "source": [
        "x = np.array([[1,2],[3,5]])\n",
        "y = np.array([[5,6],[7,8]])\n",
        "print(np.add(x,y))"
      ],
      "metadata": {
        "colab": {
          "base_uri": "https://localhost:8080/"
        },
        "id": "NrabQt1ht7oM",
        "outputId": "6d94f906-e0b0-4337-88cb-feb9eb77aaac"
      },
      "execution_count": null,
      "outputs": [
        {
          "output_type": "stream",
          "name": "stdout",
          "text": [
            "[[ 6  8]\n",
            " [10 13]]\n"
          ]
        }
      ]
    },
    {
      "cell_type": "markdown",
      "source": [
        "2. Subtract the two array."
      ],
      "metadata": {
        "id": "AKqM1SV7ugMm"
      }
    },
    {
      "cell_type": "code",
      "source": [
        "x = np.array([[1,2],[3,5]])\n",
        "y = np.array([[5,6],[7,8]])\n",
        "print(np.subtract(x,y))"
      ],
      "metadata": {
        "colab": {
          "base_uri": "https://localhost:8080/"
        },
        "id": "KWwr5n-wulQ0",
        "outputId": "9d453bfa-9e6f-492b-e8d8-03ffd2981f48"
      },
      "execution_count": null,
      "outputs": [
        {
          "output_type": "stream",
          "name": "stdout",
          "text": [
            "[[-4 -4]\n",
            " [-4 -3]]\n"
          ]
        }
      ]
    },
    {
      "cell_type": "markdown",
      "source": [
        "3. Multiply the array with any integers of your choice."
      ],
      "metadata": {
        "id": "VhheD5kEuxbL"
      }
    },
    {
      "cell_type": "code",
      "source": [
        "x = np.array([[1,2],[3,5]])\n",
        "print(np.multiply(x,10))"
      ],
      "metadata": {
        "colab": {
          "base_uri": "https://localhost:8080/"
        },
        "id": "-WorLdULuy1a",
        "outputId": "1297c679-d099-49ca-ab75-245a616da883"
      },
      "execution_count": null,
      "outputs": [
        {
          "output_type": "stream",
          "name": "stdout",
          "text": [
            "[[10 20]\n",
            " [30 50]]\n"
          ]
        }
      ]
    },
    {
      "cell_type": "markdown",
      "source": [
        "4. Find the square of each element of the array."
      ],
      "metadata": {
        "id": "Ywh_LZFrvMmu"
      }
    },
    {
      "cell_type": "code",
      "source": [
        "x = np.array([[1,2],[3,5]])\n",
        "print(np.square(x))"
      ],
      "metadata": {
        "colab": {
          "base_uri": "https://localhost:8080/"
        },
        "id": "6VoXorIXvOSi",
        "outputId": "977769d9-7206-4a79-e2c9-2fef15bac33e"
      },
      "execution_count": null,
      "outputs": [
        {
          "output_type": "stream",
          "name": "stdout",
          "text": [
            "[[ 1  4]\n",
            " [ 9 25]]\n"
          ]
        }
      ]
    },
    {
      "cell_type": "markdown",
      "source": [
        "5. Find the dot product between: v(and)w ; x(and)v ; x(and)y."
      ],
      "metadata": {
        "id": "57r-souTvcYg"
      }
    },
    {
      "cell_type": "code",
      "source": [
        "x = np.array([[1,2],[3,5]])\n",
        "y = np.array([[5,6],[7,8]])\n",
        "v = np.array([9,10])\n",
        "w = np.array([11,12])\n",
        "\n",
        "dot_vw = np.dot(v,w)\n",
        "print(\"The dot product of v and w: \",dot_vw)\n",
        "\n",
        "dot_xv = np.dot(x,v)\n",
        "print(\"The dot product of x and v: \", dot_xv)\n",
        "\n",
        "dot_xy = np.dot(x,y)\n",
        "print(\"The dot product of x and y: \", dot_xy)"
      ],
      "metadata": {
        "colab": {
          "base_uri": "https://localhost:8080/"
        },
        "id": "FYRIvNENvgLr",
        "outputId": "952a892d-70cf-4a1c-fa42-493973906024"
      },
      "execution_count": null,
      "outputs": [
        {
          "output_type": "stream",
          "name": "stdout",
          "text": [
            "The dot product of v and w:  219\n",
            "The dot product of x and v:  [29 77]\n",
            "The dot product of x and y:  [[19 22]\n",
            " [50 58]]\n"
          ]
        }
      ]
    },
    {
      "cell_type": "markdown",
      "source": [
        "6. Concatenate x(and)y along row and Concatenate v(and)w along column."
      ],
      "metadata": {
        "id": "v4CUlVDrxeSe"
      }
    },
    {
      "cell_type": "code",
      "source": [
        "x = np.array([[1, 2], [3, 5]])\n",
        "y = np.array([[5, 6], [7, 8]])\n",
        "v = np.array([9, 10])\n",
        "w = np.array([11, 12])\n",
        "\n",
        "# Concatenate x and y along rows using np.vstack()\n",
        "concat_xy_row = np.concatenate((x, y))\n",
        "print(\"Concatenated x and y along rows :\\n\", concat_xy_row)\n",
        "\n",
        "# Concatenate v and w along columns using np.hstack()\n",
        "concat_vw_col = np.hstack((v,w))\n",
        "print(\"Concatenated v and w along columns using np.hstack():\\n\", concat_vw_col)"
      ],
      "metadata": {
        "colab": {
          "base_uri": "https://localhost:8080/"
        },
        "id": "1HIwU-H8xhX8",
        "outputId": "157c2175-d87e-4b8e-c0d6-ded8ff1db665"
      },
      "execution_count": null,
      "outputs": [
        {
          "output_type": "stream",
          "name": "stdout",
          "text": [
            "Concatenated x and y along rows :\n",
            " [[1 2]\n",
            " [3 5]\n",
            " [5 6]\n",
            " [7 8]]\n",
            "Concatenated v and w along columns using np.hstack():\n",
            " [ 9 10 11 12]\n"
          ]
        }
      ]
    },
    {
      "cell_type": "markdown",
      "source": [
        "7. Concatenate x(and)v; if you get an error, observe and explain why did you get the error?"
      ],
      "metadata": {
        "id": "YNsW-sw8yweK"
      }
    },
    {
      "cell_type": "code",
      "source": [
        "#concat_xv_row = np.concatenate((x, v))\n",
        "#np.concatenate requires that all input arrays have the same number of dimensions.\n",
        "#Thus, trying to concatenate x and v directly results in a ValueError."
      ],
      "metadata": {
        "id": "l3j3ORhFyyRb"
      },
      "execution_count": null,
      "outputs": []
    },
    {
      "cell_type": "markdown",
      "source": [
        "**Problem - 4: Matrix Operations:**\n"
      ],
      "metadata": {
        "id": "Pxz9zYeazlTH"
      }
    },
    {
      "cell_type": "markdown",
      "source": [
        " For the following arrays:\n",
        "\n",
        "A = np.array([[3,4],[7,8]]) and B = np.array([[5,3],[2,1]]);\n",
        "\n",
        "Prove following with Numpy:"
      ],
      "metadata": {
        "id": "xNUUzeitz2l6"
      }
    },
    {
      "cell_type": "markdown",
      "source": [
        "1. Prove A.A−1 = I."
      ],
      "metadata": {
        "id": "WB76vFldz6x-"
      }
    },
    {
      "cell_type": "code",
      "source": [
        "A = np.array([[3,4],[7,8]])\n",
        "B = np.array([[5,3],[2,1]])\n",
        "\n",
        "A_inverse = np.linalg.inv(A)\n",
        "result = np.dot(A, A_inverse)\n",
        "\n",
        "identity_matrix = np.eye(2)\n",
        "#np.allclose() checks if two arrays are element-wise equal within a tolerance.\n",
        "print(np.allclose(result, identity_matrix)) #Prints True if close enough\n",
        "\n",
        "\n",
        "print(\"Matrix A:\\n\", A)\n",
        "print(\"\\nInverse of A:\\n\", A_inverse)\n",
        "print(\"\\nA * A_inverse (using np.dot):\\n\", result)\n",
        "print(\"\\nIdentity Matrix:\\n\", identity_matrix)"
      ],
      "metadata": {
        "colab": {
          "base_uri": "https://localhost:8080/"
        },
        "id": "d0Fai8d9zoOj",
        "outputId": "683d64ff-7373-445e-db12-27ac547878b5"
      },
      "execution_count": null,
      "outputs": [
        {
          "output_type": "stream",
          "name": "stdout",
          "text": [
            "True\n",
            "Matrix A:\n",
            " [[3 4]\n",
            " [7 8]]\n",
            "\n",
            "Inverse of A:\n",
            " [[-2.    1.  ]\n",
            " [ 1.75 -0.75]]\n",
            "\n",
            "A * A_inverse (using np.dot):\n",
            " [[1.00000000e+00 0.00000000e+00]\n",
            " [1.77635684e-15 1.00000000e+00]]\n",
            "\n",
            "Identity Matrix:\n",
            " [[1. 0.]\n",
            " [0. 1.]]\n"
          ]
        }
      ]
    },
    {
      "cell_type": "markdown",
      "source": [
        "2. Prove AB ̸= BA."
      ],
      "metadata": {
        "id": "bH_Ppa4B2uDR"
      }
    },
    {
      "cell_type": "code",
      "source": [
        "A = np.array([[3,4],[7,8]])\n",
        "B = np.array([[5,3],[2,1]])\n",
        "\n",
        "# Compute AB\n",
        "AB = np.dot(A, B)\n",
        "# Compute BA\n",
        "BA = np.dot(B, A)\n",
        "# Print the results\n",
        "print(\"AB =\\n\", AB)\n",
        "print(\"BA =\\n\", BA)\n",
        "\n",
        "# Check if AB is equal to BA\n",
        "print(\"Is AB equal to BA?\\n\", np.array_equal(AB, BA))\n"
      ],
      "metadata": {
        "colab": {
          "base_uri": "https://localhost:8080/"
        },
        "id": "XRK8ychH2v57",
        "outputId": "f8d539fb-1820-43e7-e460-46b6468d93b7"
      },
      "execution_count": null,
      "outputs": [
        {
          "output_type": "stream",
          "name": "stdout",
          "text": [
            "AB =\n",
            " [[23 13]\n",
            " [51 29]]\n",
            "BA =\n",
            " [[36 44]\n",
            " [13 16]]\n",
            "Is AB equal to BA?\n",
            " False\n"
          ]
        }
      ]
    },
    {
      "cell_type": "markdown",
      "source": [
        "3. Prove (AB)T = BT AT ."
      ],
      "metadata": {
        "id": "aeAWU73f31HU"
      }
    },
    {
      "cell_type": "code",
      "source": [
        "A = np.array([[3,4],[7,8]])\n",
        "B = np.array([[5,3],[2,1]])\n",
        "\n",
        "# Compute AB\n",
        "AB = np.dot(A, B)\n",
        "\n",
        "# Compute (AB)^T using np.transpose()\n",
        "AB_transpose = np.transpose(AB)\n",
        "\n",
        "# Compute B^T and A^T using np.transpose()\n",
        "B_transpose = np.transpose(B)\n",
        "A_transpose = np.transpose(A)\n",
        "\n",
        "# Compute B^T * A^T\n",
        "BT_AT = np.dot(B_transpose, A_transpose)\n",
        "\n",
        "# Print the results\n",
        "print(\"(AB)^T =\\n\", AB_transpose)\n",
        "print(\"B^T * A^T =\\n\", BT_AT)\n",
        "\n",
        "# Check if (AB)^T is equal to B^T * A^T\n",
        "print(\"Is (AB)^T equal to B^T * A^T?\\n\", np.array_equal(AB_transpose, BT_AT))"
      ],
      "metadata": {
        "colab": {
          "base_uri": "https://localhost:8080/"
        },
        "id": "6IH0Y0LO331S",
        "outputId": "63f5615d-dc27-4b4c-9a38-f129a675946b"
      },
      "execution_count": null,
      "outputs": [
        {
          "output_type": "stream",
          "name": "stdout",
          "text": [
            "(AB)^T =\n",
            " [[23 51]\n",
            " [13 29]]\n",
            "B^T * A^T =\n",
            " [[23 51]\n",
            " [13 29]]\n",
            "Is (AB)^T equal to B^T * A^T?\n",
            " True\n"
          ]
        }
      ]
    },
    {
      "cell_type": "markdown",
      "source": [
        "• Solve the following system of Linear equation using Inverse Methods.\n",
        "\n",
        "2x − 3y + z = −1\n",
        "\n",
        "x − y + 2z = −3\n",
        "\n",
        "3x + y − z = 9"
      ],
      "metadata": {
        "id": "WxIDUkpx5cOH"
      }
    },
    {
      "cell_type": "code",
      "source": [
        "# Define the coefficient matrix A\n",
        "A = np.array([[2, -3, 1],\n",
        "              [1, -1, 2],\n",
        "              [3, 1, -1]])\n",
        "\n",
        "# Define the constant matrix B\n",
        "B = np.array([-1, -3, 9])\n",
        "\n",
        "# Compute the inverse of A\n",
        "A_inv = np.linalg.inv(A)\n",
        "\n",
        "# Solve for X using the inverse of A\n",
        "X = np.dot(A_inv, B)\n",
        "print(X)\n",
        "# Print the solution\n",
        "print(f\"The value of x is {X[0]}\")\n",
        "print(f\"The value of y is {X[1]}\")\n",
        "print(f\"The value of z is {X[2]}\")"
      ],
      "metadata": {
        "colab": {
          "base_uri": "https://localhost:8080/"
        },
        "id": "jinXDcQM5gVq",
        "outputId": "496ec69b-16bf-485c-a43a-b00e7a381061"
      },
      "execution_count": null,
      "outputs": [
        {
          "output_type": "stream",
          "name": "stdout",
          "text": [
            "[ 2.  1. -2.]\n",
            "The value of x is 2.0\n",
            "The value of y is 1.0\n",
            "The value of z is -2.0\n"
          ]
        }
      ]
    },
    {
      "cell_type": "markdown",
      "source": [
        "In this exercise, you will compare the performance and implementation of operations using plain Python\n",
        "lists (arrays) and NumPy arrays. Follow the instructions:\n",
        "1. Element-wise Addition:\n",
        "• Using Python Lists, perform element-wise addition of two lists of size 1, 000, 000. Measure\n",
        "and Print the time taken for this operation.\n",
        "• Using Numpy Arrays, Repeat the calculation and measure and print the time taken for this\n",
        "operation."
      ],
      "metadata": {
        "id": "4cbNX4aIecZQ"
      }
    },
    {
      "cell_type": "code",
      "source": [
        "import time\n",
        "import numpy as np\n",
        "\n",
        "# Define the size of the lists/arrays\n",
        "size = 1_000_000\n",
        "\n",
        "# Create two lists of size 1,000,000\n",
        "list1 = [i for i in range(size)]\n",
        "list2 = [i for i in range(size)]\n",
        "\n",
        "# Measure the time taken for element-wise addition using Python lists\n",
        "start_time = time.time()\n",
        "result_list = [list1[i] + list2[i] for i in range(size)]\n",
        "end_time = time.time()\n",
        "\n",
        "print(f\"Time taken for element-wise addition using Python lists: {end_time - start_time:.6f} seconds\")\n",
        "\n",
        "# Create two NumPy arrays of size 1,000,000\n",
        "array1 = np.arange(size)\n",
        "array2 = np.arange(size)\n",
        "\n",
        "# Measure the time taken for element-wise addition using NumPy arrays\n",
        "start_time = time.time()\n",
        "result_array = array1 + array2\n",
        "end_time = time.time()\n",
        "\n",
        "print(f\"Time taken for element-wise addition using NumPy arrays: {end_time - start_time:.6f} seconds\")"
      ],
      "metadata": {
        "colab": {
          "base_uri": "https://localhost:8080/"
        },
        "id": "nLuN5hhteOod",
        "outputId": "b54249ca-77c2-437a-abc7-7d4f39f8486a"
      },
      "execution_count": null,
      "outputs": [
        {
          "output_type": "stream",
          "name": "stdout",
          "text": [
            "Time taken for element-wise addition using Python lists: 0.160706 seconds\n",
            "Time taken for element-wise addition using NumPy arrays: 0.006156 seconds\n"
          ]
        }
      ]
    },
    {
      "cell_type": "markdown",
      "source": [
        "2. Element-wise Multiplication\n",
        "\n",
        "• Using Python Lists, perform element-wise multiplication of two lists of size 1, 000, 000. Mea-\n",
        "sure and Print the time taken for this operation.\n",
        "\n",
        "• Using Numpy Arrays, Repeat the calculation and measure and print the time taken for this\n",
        "operation."
      ],
      "metadata": {
        "id": "GVA9bLGKeldk"
      }
    },
    {
      "cell_type": "code",
      "source": [
        "import time\n",
        "import numpy as np\n",
        "\n",
        "# Define the size of the lists/arrays\n",
        "size = 1_000_000\n",
        "\n",
        "# Create two lists of size 1,000,000\n",
        "list1 = [i for i in range(size)]\n",
        "list2 = [i for i in range(size)]\n",
        "\n",
        "# Measure the time taken for element-wise multiplication using Python lists\n",
        "start_time = time.time()\n",
        "result_list = [list1[i] * list2[i] for i in range(size)]\n",
        "end_time = time.time()\n",
        "\n",
        "print(f\"Time taken for element-wise multiplication using Python lists: {end_time - start_time:.6f} seconds\")\n",
        "\n",
        "# Create two NumPy arrays of size 1,000,000\n",
        "array1 = np.arange(size)\n",
        "array2 = np.arange(size)\n",
        "\n",
        "# Measure the time taken for element-wise multiplication using NumPy arrays\n",
        "start_time = time.time()\n",
        "result_array = array1 * array2\n",
        "end_time = time.time()\n",
        "\n",
        "print(f\"Time taken for element-wise multiplication using NumPy arrays: {end_time - start_time:.6f} seconds\")"
      ],
      "metadata": {
        "colab": {
          "base_uri": "https://localhost:8080/"
        },
        "id": "Dp2JHMzIenHm",
        "outputId": "85f6d02b-a012-4537-b52d-5652863c3c46"
      },
      "execution_count": null,
      "outputs": [
        {
          "output_type": "stream",
          "name": "stdout",
          "text": [
            "Time taken for element-wise multiplication using Python lists: 0.328028 seconds\n",
            "Time taken for element-wise multiplication using NumPy arrays: 0.009321 seconds\n"
          ]
        }
      ]
    },
    {
      "cell_type": "markdown",
      "source": [
        "3. Dot Product\n",
        "• Using Python Lists, compute the dot product of two lists of size 1, 000, 000. Measure and\n",
        "Print the time taken for this operation.\n",
        "• Using Numpy Arrays, Repeat the calculation and measure and print the time taken for this\n",
        "operation."
      ],
      "metadata": {
        "id": "PRbJN_GTe1VY"
      }
    },
    {
      "cell_type": "code",
      "source": [
        "import time\n",
        "import numpy as np\n",
        "\n",
        "# Define the size of the lists/arrays\n",
        "size = 1_000_000\n",
        "\n",
        "# Create two lists of size 1,000,000\n",
        "list1 = [i for i in range(size)]\n",
        "list2 = [i for i in range(size)]\n",
        "\n",
        "# Measure the time taken for computing the dot product using Python lists\n",
        "start_time = time.time()\n",
        "dot_product_list = sum(list1[i] * list2[i] for i in range(size))\n",
        "end_time = time.time()\n",
        "\n",
        "print(f\"Time taken for computing the dot product using Python lists: {end_time - start_time:.6f} seconds\")\n",
        "\n",
        "# Create two NumPy arrays of size 1,000,000\n",
        "array1 = np.arange(size)\n",
        "array2 = np.arange(size)\n",
        "\n",
        "# Measure the time taken for computing the dot product using NumPy arrays\n",
        "start_time = time.time()\n",
        "dot_product_array = np.dot(array1, array2)\n",
        "end_time = time.time()\n",
        "\n",
        "print(f\"Time taken for computing the dot product using NumPy arrays: {end_time - start_time:.6f} seconds\")"
      ],
      "metadata": {
        "colab": {
          "base_uri": "https://localhost:8080/"
        },
        "id": "VQW7axoge1-2",
        "outputId": "2d1aa32f-5618-4451-e687-1f06c9f1a64f"
      },
      "execution_count": null,
      "outputs": [
        {
          "output_type": "stream",
          "name": "stdout",
          "text": [
            "Time taken for computing the dot product using Python lists: 0.185333 seconds\n",
            "Time taken for computing the dot product using NumPy arrays: 0.001877 seconds\n"
          ]
        }
      ]
    },
    {
      "cell_type": "markdown",
      "source": [
        "4. Matrix Multiplication\n",
        "• Using Python lists, perform matrix multiplication of two matrices of size 1000x1000. Measure\n",
        "and print the time taken for this operation.\n",
        "\n",
        "• Using NumPy arrays, perform matrix multiplication of two matrices of size 1000x1000. Mea-\n",
        "sure and print the time taken for this operation."
      ],
      "metadata": {
        "id": "LWNLeWmifGeU"
      }
    },
    {
      "cell_type": "code",
      "source": [
        "import time\n",
        "import numpy as np\n",
        "\n",
        "# Define the size of the matrices\n",
        "size = 1000\n",
        "\n",
        "# Create two matrices of size 1000x1000 using Python lists\n",
        "matrix1 = [[i + j for j in range(size)] for i in range(size)]\n",
        "matrix2 = [[i - j for j in range(size)] for i in range(size)]\n",
        "\n",
        "# Measure the time taken for matrix multiplication using Python lists\n",
        "start_time = time.time()\n",
        "result_matrix = [[sum(a * b for a, b in zip(row, col)) for col in zip(*matrix2)] for row in matrix1]\n",
        "end_time = time.time()\n",
        "\n",
        "print(f\"Time taken for matrix multiplication using Python lists: {end_time - start_time:.6f} seconds\")\n",
        "\n",
        "# Create two NumPy arrays of size 1000x1000\n",
        "array1 = np.array(matrix1)\n",
        "array2 = np.array(matrix2)\n",
        "\n",
        "# Measure the time taken for matrix multiplication using NumPy arrays\n",
        "start_time = time.time()\n",
        "result_array = np.dot(array1, array2)\n",
        "end_time = time.time()\n",
        "\n",
        "print(f\"Time taken for matrix multiplication using NumPy arrays: {end_time - start_time:.6f} seconds\")"
      ],
      "metadata": {
        "colab": {
          "base_uri": "https://localhost:8080/"
        },
        "id": "LCu_OMOcfJ1V",
        "outputId": "7bde3270-4a72-4d87-8cbe-39e9bb1322cc"
      },
      "execution_count": null,
      "outputs": [
        {
          "output_type": "stream",
          "name": "stdout",
          "text": [
            "Time taken for matrix multiplication using Python lists: 172.310290 seconds\n",
            "Time taken for matrix multiplication using NumPy arrays: 1.572262 seconds\n"
          ]
        }
      ]
    }
  ]
}